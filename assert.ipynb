{
 "cells": [
  {
   "cell_type": "markdown",
   "metadata": {},
   "source": [
    "### 子图文本编码"
   ]
  },
  {
   "cell_type": "code",
   "execution_count": 13,
   "metadata": {},
   "outputs": [
    {
     "name": "stdout",
     "output_type": "stream",
     "text": [
      "/Users/cindy/Downloads/研究生 —— 内生/4 科研中/知识图谱/asset_kg/asset_2501\n",
      "共有36219个文件\n",
      "Processing 03060216-a156d8e3-2e0e-4333-8f6a-1c000878d5e8.pkl\n",
      "89\n",
      "Traceback (most recent call last):\n",
      "  File \"data_process/2_graph_to_text.py\", line 691, in <module>\n",
      "    graph_to_text(graph_dir, sample_path)\n",
      "  File \"data_process/2_graph_to_text.py\", line 471, in graph_to_text\n",
      "    factory = _get_factory(graph_data)\n",
      "  File \"data_process/2_graph_to_text.py\", line 96, in _get_factory\n",
      "    factory = node_info['FACTORY']\n",
      "KeyError: 'FACTORY'\n"
     ]
    }
   ],
   "source": [
    "import os\n",
    "import sys \n",
    "# print(sys.path[2])\n",
    "print(os.getcwd())\n",
    "\n",
    "!python data_process/2_graph_to_text.py"
   ]
  }
 ],
 "metadata": {
  "kernelspec": {
   "display_name": "kg",
   "language": "python",
   "name": "python3"
  },
  "language_info": {
   "codemirror_mode": {
    "name": "ipython",
    "version": 3
   },
   "file_extension": ".py",
   "mimetype": "text/x-python",
   "name": "python",
   "nbconvert_exporter": "python",
   "pygments_lexer": "ipython3",
   "version": "3.8.20"
  }
 },
 "nbformat": 4,
 "nbformat_minor": 2
}
